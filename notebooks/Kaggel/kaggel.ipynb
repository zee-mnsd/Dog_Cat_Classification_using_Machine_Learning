{
 "cells": [
  {
   "cell_type": "markdown",
   "metadata": {
    "id": "ATnGkzGouh3c"
   },
   "source": [
    "# Nhập khẩu thư viện\n"
   ]
  },
  {
   "cell_type": "code",
   "execution_count": 1,
   "metadata": {
    "execution": {
     "iopub.execute_input": "2025-07-20T15:14:41.769116Z",
     "iopub.status.busy": "2025-07-20T15:14:41.768871Z",
     "iopub.status.idle": "2025-07-20T15:14:45.146795Z",
     "shell.execute_reply": "2025-07-20T15:14:45.146210Z",
     "shell.execute_reply.started": "2025-07-20T15:14:41.769099Z"
    },
    "id": "GeXYj-VbZPK1",
    "trusted": true
   },
   "outputs": [],
   "source": [
    "import os\n",
    "import cv2\n",
    "import numpy as np\n",
    "import torch\n",
    "import torch.nn as nn\n",
    "import torch.optim as optim\n",
    "from torch.utils.data import Dataset, DataLoader\n",
    "import torchvision.transforms as transforms\n",
    "from torchvision.models import resnet50\n",
    "import warnings\n",
    "from PIL import Image, ImageFile\n",
    "import logging\n",
    "from datetime import datetime"
   ]
  },
  {
   "cell_type": "markdown",
   "metadata": {
    "id": "t3hJgwdVvcAR"
   },
   "source": [
    "#  Cấu hình môi trường để xử lý các vấn đề thường gặp khi làm việc với dữ liệu ảnh trong thực tế\n"
   ]
  },
  {
   "cell_type": "markdown",
   "metadata": {
    "id": "FneoBOKA3iTp"
   },
   "source": [
    "\n",
    "- PIL (Python Imaging Library) load được các file ảnh bị *truncated* (cắt cụt/không đầy đủ).\n",
    "\n",
    "   PIL sẽ cố gắng load phần dữ liệu còn lại của ảnh.\n",
    "\n",
    "   Phần bị thiếu sẽ được fill bằng màu đen hoặc màu mặc định.\n",
    "\n",
    "   Giúp pipeline training không bị gián đoạn\n",
    "\n",
    "- Tắt các warning messages thuộc loại UserWarning.\n",
    "\n",
    "    Tránh spam, giúp log hiển thị log quan trọng trong training.\n",
    "\n",
    "- Thiết lập hệ thống logging để theo dõi và ghi lại các sự kiện trong chương trình"
   ]
  },
  {
   "cell_type": "code",
   "execution_count": 2,
   "metadata": {
    "execution": {
     "iopub.execute_input": "2025-07-20T15:14:46.203977Z",
     "iopub.status.busy": "2025-07-20T15:14:46.203251Z",
     "iopub.status.idle": "2025-07-20T15:14:46.208067Z",
     "shell.execute_reply": "2025-07-20T15:14:46.207320Z",
     "shell.execute_reply.started": "2025-07-20T15:14:46.203950Z"
    },
    "id": "Yb6S5P2h1LzE",
    "trusted": true
   },
   "outputs": [],
   "source": [
    "# Cấu hình PIL để xử lý file ảnh bị truncated\n",
    "ImageFile.LOAD_TRUNCATED_IMAGES = True\n",
    "\n",
    "# Tắt các warning messages thuộc loại UserWarning\n",
    "warnings.filterwarnings(\"ignore\", category=UserWarning)\n",
    "\n",
    "# Thiết lập logging để theo dõi các file bị lỗi, có trả về file log :)\n",
    "logging.basicConfig(\n",
    "    filename=\"/kaggle/working/training.log\",\n",
    "    level=logging.INFO, format='%(asctime)s - %(levelname)s - %(message)s'\n",
    ")"
   ]
  },
  {
   "cell_type": "markdown",
   "metadata": {
    "id": "a5n74a7Fzzys"
   },
   "source": [
    "# Các class"
   ]
  },
  {
   "cell_type": "markdown",
   "metadata": {
    "id": "_ZLew8s8Jmi3"
   },
   "source": [
    "- SafeTransform: Tiền xử lý transform để tránh lỗi error handling\n",
    "- DogCatDataset: Biến folder ảnh thô thành dataset sạch để train model\n",
    " + Tìm và gán nhãn\n",
    " + Lọc ảnh hợp lệ\n",
    " + Load ảnh khi cần\n",
    "- DogCatClassifier: mô hình neural network để phân loại ảnh chó/mèo"
   ]
  },
  {
   "cell_type": "markdown",
   "metadata": {
    "id": "NKriNVok0N3r"
   },
   "source": [
    "### Class SafeTransform - tiền xử lý ảnh khỏi lỗi error handling"
   ]
  },
  {
   "cell_type": "markdown",
   "metadata": {
    "id": "DsLiZdlgGVeO"
   },
   "source": [
    "- Transform = \"dịch thuật\" ảnh từ dạng con người hiểu sang dạng AI hiểu, bằng:\n",
    " + ToPILImage,\n",
    " + ToTensor,\n",
    " + Normalize(chuẩn hoá theo cùng 1 khuân)"
   ]
  },
  {
   "cell_type": "code",
   "execution_count": 3,
   "metadata": {
    "execution": {
     "iopub.execute_input": "2025-07-20T15:14:50.796049Z",
     "iopub.status.busy": "2025-07-20T15:14:50.795733Z",
     "iopub.status.idle": "2025-07-20T15:14:50.801401Z",
     "shell.execute_reply": "2025-07-20T15:14:50.800576Z",
     "shell.execute_reply.started": "2025-07-20T15:14:50.796028Z"
    },
    "id": "T1dns9pk3wHj",
    "trusted": true
   },
   "outputs": [],
   "source": [
    "#Preprocessing transform với error handling\n",
    "class SafeTransform:\n",
    "    \"\"\"\n",
    "        Transform = \"dịch thuật\" ảnh từ dạng con người hiểu sang dạng AI hiểu\n",
    "\n",
    "        Logic:\n",
    "            Ảnh gốc (.jpg file)\n",
    "                ↓ transform ToPILImage, ToTensor, Normalize(Chuẩn hóa theo ImageNet)\n",
    "            Tensor (3, 224, 224) với giá trị [-2, +2]\n",
    "\n",
    "        Hàm:\n",
    "            - init : định nghĩa transform\n",
    "            - call : thực hiện transform\n",
    "    \"\"\"\n",
    "\n",
    "    def __init__(self):\n",
    "        self.transform = transforms.Compose([\n",
    "            transforms.ToPILImage(),\n",
    "            transforms.ToTensor(),\n",
    "            transforms.Normalize(\n",
    "                mean=[0.485, 0.456, 0.406],\n",
    "                std=[0.229, 0.224, 0.225]\n",
    "            )\n",
    "        ])\n",
    "\n",
    "    def __call__(self, image):\n",
    "        try:\n",
    "            return self.transform(image)\n",
    "        except Exception as e:\n",
    "            logging.error(f\"Transform error: {str(e)}\")\n",
    "            # Trả về tensor mặc định\n",
    "            return torch.zeros(3, 224, 224)"
   ]
  },
  {
   "cell_type": "markdown",
   "metadata": {
    "id": "sVH6kTcKKRMn"
   },
   "source": [
    "### Class Dataset"
   ]
  },
  {
   "cell_type": "markdown",
   "metadata": {
    "id": "cqaeVg8DPygf"
   },
   "source": [
    "- Vì cách thức tổ chức thư mục theo kiểu:\n",
    " + Pets/\n",
    "    + Cat/\n",
    "        - cat1.jpg\n",
    "    + Dog/\n",
    "        - dog1.jpg\n",
    "\n",
    "  nên thực hiện for đọc vào trong folder  \n",
    "- Dán nhãn DOG = 1, CAT = 0\n",
    "- Thực hiện kiểm tra đuôi (extension) và metadata của ảnh.\n",
    " - Kiểm tra metadata bằng def _is_valid_image\n",
    " - Kiểm tra ảnh với error handing bằng def _load_image_safely\n",
    " - Build time: _is_valid_image() → lọc file tốt.\n",
    "\n",
    "   Training time: _load_image_safely() → load ảnh đã lọc\n",
    "\n",
    "   "
   ]
  },
  {
   "cell_type": "code",
   "execution_count": 4,
   "metadata": {
    "execution": {
     "iopub.execute_input": "2025-07-20T15:14:54.865014Z",
     "iopub.status.busy": "2025-07-20T15:14:54.864652Z",
     "iopub.status.idle": "2025-07-20T15:14:54.880200Z",
     "shell.execute_reply": "2025-07-20T15:14:54.879321Z",
     "shell.execute_reply.started": "2025-07-20T15:14:54.864989Z"
    },
    "id": "1V0y2MqeEuwh",
    "trusted": true
   },
   "outputs": [],
   "source": [
    "class DogCatDataset(Dataset):\n",
    "    def __init__(self, root_folder, transform=None):\n",
    "        self.image_paths = []\n",
    "        self.labels = []\n",
    "        self.transform = transform\n",
    "        self.skipped_files = 0\n",
    "        image_extensions = ['.jpg', '.jpeg', '.png', '.bmp', '.tiff']\n",
    "\n",
    "        for sub_folder in os.listdir(root_folder):\n",
    "            sub_folder_path = os.path.join(root_folder, sub_folder)\n",
    "\n",
    "            if os.path.isdir(sub_folder_path):\n",
    "                if \"dog\" in sub_folder.lower():\n",
    "                    label = 1\n",
    "                elif \"cat\" in sub_folder.lower():\n",
    "                    label = 0\n",
    "                else:\n",
    "                    continue # Bỏ vòng for bên dưới!\n",
    "\n",
    "                for file_name in os.listdir(sub_folder_path):\n",
    "                    if any(file_name.lower().endswith(ext) for ext in image_extensions):\n",
    "                        image_path = os.path.join(sub_folder_path, file_name)\n",
    "\n",
    "                        # Kiểm tra tính hợp lệ của file ảnh trong metadata\n",
    "                        if self.is_valid_image(image_path):\n",
    "                            self.image_paths.append(image_path)\n",
    "                            self.labels.append(label)\n",
    "                        else:\n",
    "                            self.skipped_files += 1\n",
    "                            logging.warning(f\"Skipping invalid image: {image_path}\")\n",
    "        logging.info(f\"Total valid images loaded: {len(self.image_paths)}\")\n",
    "        logging.info(f\"Total skipped files: {self.skipped_files}\")\n",
    "\n",
    "    def is_valid_image(self, image_path):\n",
    "        \"\"\"Kiểm tra tính hợp lệ của file ảnh\"\"\"\n",
    "        try:\n",
    "            # Kiểm tra với OpenCV\n",
    "            img = cv2.imread(image_path)\n",
    "            if img is None:\n",
    "                return False\n",
    "            # Kiểm tra kích thước hợp lệ\n",
    "            if img.shape[0] < 32 or img.shape[1] < 32:\n",
    "                return False\n",
    "            # Kiểm tra với PIL để catch lỗi JPEG hỏng\n",
    "            with Image.open(image_path) as img_pil:\n",
    "                img_pil.verify()\n",
    "            # Kiểm tra với PIL để đảm bảo có thể load được\n",
    "            with Image.open(image_path) as img_pil:\n",
    "                img_pil.load()\n",
    "            return True\n",
    "\n",
    "        except (OSError, IOError, cv2.error) as e:\n",
    "            logging.warning(f\"Skipping invalid image: {image_path} - Error: {str(e)}\")\n",
    "            return False\n",
    "\n",
    "        except Exception as e:\n",
    "            logging.warning(f\"Skipping invalid image: {image_path} - Error: {str(e)}\")\n",
    "            return False\n",
    "\n",
    "    def __len__(self):\n",
    "        return len(self.image_paths)\n",
    "\n",
    "    def __getitem__(self, idx):\n",
    "        try:\n",
    "            # Đọc ảnh với error handling\n",
    "            image = self._load_image_safely(self.image_paths[idx])\n",
    "            if self.transform:\n",
    "                image = self.transform(image)\n",
    "            label = self.labels[idx]\n",
    "            return image, label\n",
    "\n",
    "        except Exception as e:\n",
    "            logging.error(f\"Error loading image: {self.image_paths[idx]} - Error: {str(e)}\")\n",
    "            # Trả về ảnh mặc định hoặc tensor rỗng\n",
    "            if self.transform:\n",
    "                default_image = np.zeros(3, 224, 224)\n",
    "                image = self.transform(default_image)\n",
    "            else:\n",
    "                image = torch.zeros(3, 224, 224)\n",
    "            label = self.labels[idx]\n",
    "            return image, label\n",
    "\n",
    "    def _load_image_safely(self, image_path):\n",
    "        \"\"\"Đọc ảnh một cách an toàn với nhiều phương pháp fallback\"\"\"\n",
    "        # Thử đọc với OpenCV\n",
    "        try:\n",
    "            image = cv2.imread(image_path)\n",
    "            if image is not None:\n",
    "                image = cv2.cvtColor(image, cv2.COLOR_BGR2RGB)\n",
    "                image = cv2.resize(image, (224, 224))\n",
    "                return image\n",
    "        except Exception as e:\n",
    "            pass  # Nếu lỗi xảy ra, tiếp tục với PIL\n",
    "\n",
    "        # Thử đọc với PIL\n",
    "        try:\n",
    "            with Image.open(image_path) as image:\n",
    "                image = image.convert('RGB')\n",
    "                image = image.resize((224, 224))\n",
    "                image = np.array(image)\n",
    "                return image\n",
    "        except Exception as e:\n",
    "            logging.error(f\"Error loading image: {image_path} - Error: {str(e)}\")\n",
    "            return np.zeros((224, 224, 3), dtype=np.uint8)"
   ]
  },
  {
   "cell_type": "markdown",
   "metadata": {
    "id": "rPB4rGa2hGrb"
   },
   "source": [
    "### Class DataClassifier"
   ]
  },
  {
   "cell_type": "markdown",
   "metadata": {
    "id": "jdZw5c-ihJme"
   },
   "source": [
    " + Lấy ResNet50 đã pre-trained (biết nhận diện 1000 objects)\n",
    " + Thay lớp cuối từ 1000 classes → 2 classes (chó/mèo)\n",
    " + Forward: Nhận ảnh tensor → trả về điểm số [cat_score, dog_score]"
   ]
  },
  {
   "cell_type": "code",
   "execution_count": 5,
   "metadata": {
    "execution": {
     "iopub.execute_input": "2025-07-20T15:15:00.124281Z",
     "iopub.status.busy": "2025-07-20T15:15:00.123975Z",
     "iopub.status.idle": "2025-07-20T15:15:00.128904Z",
     "shell.execute_reply": "2025-07-20T15:15:00.128025Z",
     "shell.execute_reply.started": "2025-07-20T15:15:00.124248Z"
    },
    "id": "rg8I_c1IYUsg",
    "trusted": true
   },
   "outputs": [],
   "source": [
    "class DogCatClassifier(nn.Module):\n",
    "    def __init__(self, num_classes=2):\n",
    "        super(DogCatClassifier, self).__init__()\n",
    "        self.resnet = resnet50(pretrained=True)\n",
    "        in_features = self.resnet.fc.in_features\n",
    "        self.resnet.fc = nn.Linear(in_features, num_classes)\n",
    "\n",
    "    def forward(self, x):\n",
    "        return self.resnet(x)"
   ]
  },
  {
   "cell_type": "markdown",
   "metadata": {
    "id": "JlcNrmiUwB2Q"
   },
   "source": [
    "# Training model"
   ]
  },
  {
   "cell_type": "code",
   "execution_count": 6,
   "metadata": {
    "execution": {
     "iopub.execute_input": "2025-07-20T15:15:02.459001Z",
     "iopub.status.busy": "2025-07-20T15:15:02.458251Z",
     "iopub.status.idle": "2025-07-20T15:15:02.467902Z",
     "shell.execute_reply": "2025-07-20T15:15:02.467281Z",
     "shell.execute_reply.started": "2025-07-20T15:15:02.458974Z"
    },
    "id": "WFxfGa8BwFOj",
    "trusted": true
   },
   "outputs": [],
   "source": [
    "def train_model(model, train_loader, val_loader, device, epochs=10):\n",
    "    criterion = nn.CrossEntropyLoss(ignore_index=-1)\n",
    "    optimizer = optim.Adam(model.parameters(), lr=0.001)\n",
    "    model.to(device)\n",
    "\n",
    "    for epoch in range(epochs):\n",
    "\n",
    "        # Training\n",
    "        model.train() # Bật tính năng training\n",
    "        train_loss = 0.0\n",
    "        train_correct = 0\n",
    "        train_total = 0\n",
    "        train_batch_errors = 0\n",
    "\n",
    "        for batch_idx, (images, labels) in enumerate(train_loader):\n",
    "            try:\n",
    "                images, labels = images.to(device), labels.to(device)\n",
    "                optimizer.zero_grad()\n",
    "                outputs = model(images)\n",
    "                loss = criterion(outputs, labels)\n",
    "                loss.backward()\n",
    "                optimizer.step()\n",
    "\n",
    "                train_loss += loss.item()\n",
    "                _, predicted = torch.max(outputs.data, 1)\n",
    "                train_total += labels.size(0)\n",
    "                train_correct += (predicted == labels).sum().item()\n",
    "\n",
    "            except Exception as e:\n",
    "                logging.error(f\"Error during training: Batch {batch_idx} - Error: {str(e)}\")\n",
    "                train_batch_errors += 1\n",
    "                continue\n",
    "\n",
    "        train_accuracy = 100 * train_correct / train_total if train_total > 0 else 0\n",
    "        avg_train_loss = train_loss / (len(train_loader) - train_batch_errors) if (len(train_loader) - train_batch_errors) > 0 else 0\n",
    "        print(f\"Epoch {epoch+1}/{epochs}, Loss: {avg_train_loss: .4f}, Accuracy: {train_accuracy: .4f}%\")\n",
    "\n",
    "        if train_batch_errors > 0:\n",
    "            print(f\"Train batch errors: {train_batch_errors}\")\n",
    "\n",
    "        #Validation\n",
    "        model.eval() # Bật tính năng validate\n",
    "        val_correct = 0\n",
    "        val_total = 0\n",
    "        val_batch_errors = 0\n",
    "\n",
    "        with torch.no_grad():\n",
    "            for batch_idx, (images, labels) in enumerate(val_loader):\n",
    "                try:\n",
    "                    images, labels = images.to(device), labels.to(device)\n",
    "                    outputs = model(images)\n",
    "                    _, predicted = torch.max(outputs.data, 1)\n",
    "                    val_total += labels.size(0)\n",
    "                    val_correct += (predicted == labels).sum().item()\n",
    "\n",
    "                except Exception as e:\n",
    "                    logging.error(f\"Error during validation: Batch {batch_idx} - Error: {str(e)}\")\n",
    "                    val_batch_errors += 1\n",
    "                    continue\n",
    "\n",
    "        val_accuracy = 100 * val_correct / val_total if val_total > 0 else 0\n",
    "        print(f\"Validation Accuracy: {val_accuracy: .4f}%\")\n",
    "        if val_batch_errors > 0:\n",
    "            print(f\"Validation batch errors: {val_batch_errors}\")"
   ]
  },
  {
   "cell_type": "markdown",
   "metadata": {
    "id": "kHBE7z8x1j2m"
   },
   "source": [
    "# Kiểm tra model bằng 1 dữ liệu bất kỳ từ ngoài"
   ]
  },
  {
   "cell_type": "code",
   "execution_count": 7,
   "metadata": {
    "execution": {
     "iopub.execute_input": "2025-07-20T15:15:50.121466Z",
     "iopub.status.busy": "2025-07-20T15:15:50.121145Z",
     "iopub.status.idle": "2025-07-20T15:15:50.127206Z",
     "shell.execute_reply": "2025-07-20T15:15:50.126438Z",
     "shell.execute_reply.started": "2025-07-20T15:15:50.121444Z"
    },
    "id": "VmpVQ8Hj1pn1",
    "trusted": true
   },
   "outputs": [],
   "source": [
    "def predict_image(image_path, model, device):\n",
    "    try:\n",
    "        # Load ảnh an toàn\n",
    "        dataset_temp = DogCatDataset.__new__(DogCatDataset)\n",
    "        image = dataset_temp._load_image_safely(image_path)\n",
    "\n",
    "        transform = SafeTransform()\n",
    "        image = transform(image)\n",
    "        image = image.unsqueeze(0).to(device)\n",
    "\n",
    "        model.eval()\n",
    "        with torch.no_grad():\n",
    "            output = model(image)\n",
    "            probabilities = torch.softmax(output, dim=1)\n",
    "            confidence, predicted = torch.max(probabilities, 1)\n",
    "\n",
    "        if predicted.item() == 0:\n",
    "            return \"Đây là mèo!\", confidence.item()\n",
    "        else:\n",
    "            return \"Đây là chó!\", confidence.item()\n",
    "\n",
    "    except Exception as e:\n",
    "        logging.error(f\"Error during prediction: {str(e)}\")\n",
    "        print(\"Không thể dự đoán ảnh này.\")\n",
    "        return \"Error\", 0.0"
   ]
  },
  {
   "cell_type": "markdown",
   "metadata": {
    "id": "oZc0-dba3w1q"
   },
   "source": [
    "# Main"
   ]
  },
  {
   "cell_type": "markdown",
   "metadata": {
    "id": "yFwyNRZZ3zPI"
   },
   "source": [
    "- Kiểm tra device sẽ chạy code là GPU với cuda hay CPU\n",
    "- Cấu hình batch và epochs\n",
    "- Đọc thư mục chứa data train và validate\n",
    "- Thiết lập dataset và datasetloader\n",
    "  + Cần xử lý Error handling (xử lý lỗi) - cách chương trình phản ứng khi gặp lỗi thay vì crash (dừng hẳn)= > dùng ***try***\n",
    "-"
   ]
  },
  {
   "cell_type": "code",
   "execution_count": null,
   "metadata": {
    "colab": {
     "base_uri": "https://localhost:8080/"
    },
    "execution": {
     "iopub.execute_input": "2025-07-20T15:15:59.585830Z",
     "iopub.status.busy": "2025-07-20T15:15:59.585496Z",
     "iopub.status.idle": "2025-07-20T16:31:52.784725Z",
     "shell.execute_reply": "2025-07-20T16:31:52.783896Z",
     "shell.execute_reply.started": "2025-07-20T15:15:59.585806Z"
    },
    "id": "CHQD5tLM31fx",
    "outputId": "56460a38-2348-4dc7-95e5-555dd1ec1a95",
    "trusted": true
   },
   "outputs": [],
   "source": [
    "if __name__ == \"__main__\":\n",
    "\n",
    "    #kiểm tra thiết bị sẽ chạy code là GPU hay CPU\n",
    "    device = 'cuda' if torch.cuda.is_available() else 'cpu'\n",
    "    logging.info(f\"Sử dụng device: {device}\")\n",
    "\n",
    "    # cấu hình batch và epochs\n",
    "    batch_size = 256 # 64, 256, 512\n",
    "    epochs = 20 # 10, 20, 25, 50\n",
    "\n",
    "    # Đọc thư mục chứa data gốc\n",
    "    root_folder = \"/kaggle/input/mynewnewpet/Pets\"\n",
    "\n",
    "    # Dataset and DataLoader với error handling\n",
    "    try:\n",
    "        print(\"Đang tải dataset...\")\n",
    "\n",
    "        #Transform = biến đổi/xử lý ảnh để chuẩn bị cho model deep learning.\n",
    "        transform = SafeTransform()\n",
    "        dataset = DogCatDataset(root_folder, transform=transform)\n",
    "\n",
    "        if len(dataset) == 0:\n",
    "            raise ValueError(\"Không tìm thấy ảnh hợp lệ nào trong dataset!\")\n",
    "\n",
    "        train_size = int(0.8 * len(dataset))\n",
    "        val_size = len(dataset) - train_size\n",
    "        train_dataset, val_dataset = torch.utils.data.random_split(dataset, [train_size, val_size])\n",
    "\n",
    "                # num_workers=0 để tránh lỗi => Chỉ skip file lỗi, không crash toàn bộ\n",
    "        train_loader = DataLoader(train_dataset, batch_size=batch_size, shuffle=True, num_workers=0)\n",
    "        val_loader = DataLoader(val_dataset, batch_size=batch_size, shuffle=False, num_workers=0)\n",
    "\n",
    "        # creat model\n",
    "        model = DogCatClassifier()\n",
    "        if torch.cuda.device_count() > 1:\n",
    "            model = nn.DataParallel(model)\n",
    "        model.to(device)\n",
    "\n",
    "        # train model\n",
    "        print(\"Đang train model...\")\n",
    "        train_model(model, train_loader, val_loader, device, epochs)\n",
    "\n",
    "        # save model\n",
    "        model_path = f\"model_resnet50_{datetime.now().strftime('%Y%m%d_%H%M%S')}.pth\"\n",
    "        torch.save(model.state_dict(), model_path)\n",
    "        print(f\"Model đã được lưu tại: {model_path}\")\n",
    "\n",
    "        # Kiểm tra model bằng 1 tấm ảnh ở ngoài mô hình (ảnh bất kỳ)\n",
    "        test_image_path = \"/kaggle/input/funny-dog-h-jpg/Funny_Dog_H.jpg\"\n",
    "        if os.path.exists(test_image_path):\n",
    "            test_result, test_confidence = predict_image(test_image_path, model, device)\n",
    "            print(f\"Kết quả dự đoán: {test_result}, độ tin cậy: {test_confidence}\")\n",
    "        else:\n",
    "            print(f\"File test {test_image_path} không tồn tại!\")\n",
    "\n",
    "    except Exception as e:\n",
    "        logging.error(f\"Error during dataset loading: {str(e)}\")\n",
    "        print(f\"Lỗi trong quá trình tải dataset: {str(e)}\")"
   ]
  }
 ],
 "metadata": {
  "accelerator": "GPU",
  "colab": {
   "gpuType": "T4",
   "provenance": []
  },
  "kaggle": {
   "accelerator": "none",
   "dataSources": [
    {
     "datasetId": 7898227,
     "sourceId": 12513322,
     "sourceType": "datasetVersion"
    },
    {
     "datasetId": 7898933,
     "sourceId": 12514229,
     "sourceType": "datasetVersion"
    },
    {
     "datasetId": 7907071,
     "sourceId": 12526697,
     "sourceType": "datasetVersion"
    }
   ],
   "dockerImageVersionId": 31090,
   "isGpuEnabled": false,
   "isInternetEnabled": true,
   "language": "python",
   "sourceType": "notebook"
  },
  "kernelspec": {
   "display_name": "Python 3",
   "language": "python",
   "name": "python3"
  },
  "language_info": {
   "codemirror_mode": {
    "name": "ipython",
    "version": 3
   },
   "file_extension": ".py",
   "mimetype": "text/x-python",
   "name": "python",
   "nbconvert_exporter": "python",
   "pygments_lexer": "ipython3",
   "version": "3.11.13"
  }
 },
 "nbformat": 4,
 "nbformat_minor": 4
}
